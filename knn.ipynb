{
  "nbformat": 4,
  "nbformat_minor": 0,
  "metadata": {
    "colab": {
      "provenance": [],
      "authorship_tag": "ABX9TyOhLxedDqcOEmwOdotlpg32",
      "include_colab_link": true
    },
    "kernelspec": {
      "name": "python3",
      "display_name": "Python 3"
    },
    "language_info": {
      "name": "python"
    }
  },
  "cells": [
    {
      "cell_type": "markdown",
      "metadata": {
        "id": "view-in-github",
        "colab_type": "text"
      },
      "source": [
        "<a href=\"https://colab.research.google.com/github/pushpa301/complete-python-course/blob/master/knn.ipynb\" target=\"_parent\"><img src=\"https://colab.research.google.com/assets/colab-badge.svg\" alt=\"Open In Colab\"/></a>"
      ]
    },
    {
      "cell_type": "code",
      "execution_count": 1,
      "metadata": {
        "id": "ZOcdq8ZIktLU"
      },
      "outputs": [],
      "source": [
        "from sklearn import linear_model\n",
        "from matplotlib import pyplot as plt\n",
        "\n",
        "import pandas as pd\n",
        "import numpy as np\n",
        "\n",
        "\n",
        "from sklearn.model_selection import train_test_split\n",
        "\n",
        "\n",
        "data_url = \"http://lib.stat.cmu.edu/datasets/boston\"\n",
        "raw_df = pd.read_csv(data_url, sep=\"\\s+\", skiprows=22, header=None)\n",
        "data = np.hstack([raw_df.values[::2, :], raw_df.values[1::2, :2]])\n",
        "target = raw_df.values[1::2, 2]\n",
        "\n"
      ]
    },
    {
      "cell_type": "code",
      "source": [
        "X = data\n",
        "y = target\n",
        "\n"
      ],
      "metadata": {
        "id": "LjnbTGpCyNl1"
      },
      "execution_count": null,
      "outputs": []
    },
    {
      "cell_type": "code",
      "source": [
        "#algorithm\n",
        "l_reg = linear_model.LinearRegression()\n",
        "\n",
        "plt.scatter(X.T[5], y)\n",
        "plt.show()\n",
        "\n",
        "X_train, X_test, y_train, y_test = train_test_split(X, y, test_size=0.2)\n",
        "\n",
        "#train\n",
        "model = l_reg.fit(X_train, y_train)\n",
        "\n"
      ],
      "metadata": {
        "id": "yTHCjreFyUaY"
      },
      "execution_count": null,
      "outputs": []
    },
    {
      "cell_type": "code",
      "source": [
        "predictions = model.predict(X_test)\n",
        "print(\"predictions: \", predictions)\n",
        "print(\"R^2: \", l_reg.score(X, y))\n",
        "print(\" coeff: \", l_reg.coef_)\n",
        "print(\"intercept: \", l_reg.intercept_)\n"
      ],
      "metadata": {
        "id": "-LkOkMGUybpI"
      },
      "execution_count": null,
      "outputs": []
    }
  ]
}