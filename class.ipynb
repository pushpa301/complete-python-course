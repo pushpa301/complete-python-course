{
  "nbformat": 4,
  "nbformat_minor": 0,
  "metadata": {
    "colab": {
      "name": "Untitled2.ipynb",
      "provenance": [],
      "collapsed_sections": [],
      "authorship_tag": "ABX9TyNQL7wr/vQZ6mKrlpSdh9Kx",
      "include_colab_link": true
    },
    "kernelspec": {
      "name": "python3",
      "display_name": "Python 3"
    },
    "language_info": {
      "name": "python"
    }
  },
  "cells": [
    {
      "cell_type": "markdown",
      "metadata": {
        "id": "view-in-github",
        "colab_type": "text"
      },
      "source": [
        "<a href=\"https://colab.research.google.com/github/pushpa301/complete-python-course/blob/master/class.ipynb\" target=\"_parent\"><img src=\"https://colab.research.google.com/assets/colab-badge.svg\" alt=\"Open In Colab\"/></a>"
      ]
    },
    {
      "cell_type": "code",
      "metadata": {
        "colab": {
          "base_uri": "https://localhost:8080/"
        },
        "id": "c8_Vwd6jDaLY",
        "outputId": "cc848e32-4f65-4446-c31a-fd97e2c90e4a"
      },
      "source": [
        "class computer:\n",
        "  def __init__(self):\n",
        "    self.name=\"vivik\"\n",
        "    self.age=30\n",
        "\n",
        "  def update(self):\n",
        "    self.age=30\n",
        "\n",
        "  def compare(self,other):\n",
        "    return \"True\" if self.age==other.age else False\n",
        "      \n",
        "      \n",
        "    \n",
        "c1=computer()\n",
        "c2=computer()\n",
        "c2.update()\n",
        "if c1.compare(c2):\n",
        "  print(\"same age\")\n",
        "else:\n",
        "  print(\"different age\")  \n",
        "print(c1.name)\n",
        "print(c1.age)\n"
      ],
      "execution_count": 8,
      "outputs": [
        {
          "output_type": "stream",
          "text": [
            "same age\n",
            "vivik\n",
            "30\n"
          ],
          "name": "stdout"
        }
      ]
    }
  ]
}