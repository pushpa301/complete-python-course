{
  "nbformat": 4,
  "nbformat_minor": 0,
  "metadata": {
    "colab": {
      "provenance": [],
      "include_colab_link": true
    },
    "kernelspec": {
      "name": "python3",
      "display_name": "Python 3"
    },
    "language_info": {
      "name": "python"
    }
  },
  "cells": [
    {
      "cell_type": "markdown",
      "metadata": {
        "id": "view-in-github",
        "colab_type": "text"
      },
      "source": [
        "<a href=\"https://colab.research.google.com/github/pushpa301/complete-python-course/blob/master/O_1.ipynb\" target=\"_parent\"><img src=\"https://colab.research.google.com/assets/colab-badge.svg\" alt=\"Open In Colab\"/></a>"
      ]
    },
    {
      "cell_type": "code",
      "source": [
        "from tkinter import messagebox\n",
        "from tkinter import *\n",
        "from tkinter import simpledialog\n",
        "import tkinter\n",
        "from tkinter import filedialog\n",
        "import matplotlib.pyplot as plt\n",
        "import numpy as np\n",
        "from tkinter.filedialog import askopenfilename\n",
        "import pandas as pd\n",
        "import os\n",
        "from keras.preprocessing import sequence\n",
        "from keras.models import load_model\n",
        "from sklearn.preprocessing import MinMaxScaler\n",
        "import numpy as np\n",
        "from keras.layers import Dense\n",
        "from keras.layers import Input, LSTM\n",
        "from keras.models import Model\n",
        "import h5py\n",
        "import tensorflow as tf\n",
        "from statsmodels.tsa.arima.model import ARIMA\n",
        "from sklearn.model_selection import train_test_split"
      ],
      "metadata": {
        "id": "73bN3eZF_6Av"
      },
      "execution_count": 1,
      "outputs": []
    },
    {
      "cell_type": "code",
      "source": [
        "\n",
        "global filename\n",
        "batch_size = 64\n",
        "epochs = 10\n",
        "timesteps = 30\n",
        "lstm_accuracy=0\n",
        "arma_accuracy=0"
      ],
      "metadata": {
        "id": "PJjWUlwk_8U-"
      },
      "execution_count": 12,
      "outputs": []
    },
    {
      "cell_type": "code",
      "source": [
        "\n",
        "def get_train_length(dataset, batch_size, test_percent):\n",
        "    # substract test_percent to be excluded from training, reserved for testset\n",
        "    length = len(dataset)\n",
        "    length *= 1 - test_percent\n",
        "    train_length_values = []\n",
        "    for x in range(int(length) - 100,int(length)): \n",
        "        modulo=x%batch_size\n",
        "        if (modulo == 0):\n",
        "            train_length_values.append(x)\n",
        "            print(\"x \"+str(x))\n",
        "    return (max(train_length_values)) "
      ],
      "metadata": {
        "id": "OOGiMJd5AGRe"
      },
      "execution_count": 13,
      "outputs": []
    },
    {
      "cell_type": "code",
      "source": [
        "def runLSTM():\n",
        "    global lstm_accuracy\n",
        "    #current_price = simpledialog.askstring(title=\"Crude oil Price\",prompt=\"Enter Current Crude Oil Price\")\n",
        "    #text.delete('1.0', END)\n",
        "    #text.insert(END,\"LSTM Predicted Prices loaded\\n\\n\");\n",
        "    if os.path.exists('models/model.h5'):\n",
        "        model = tf.keras.models.load_model('models/model.h5')\n",
        "        print(model.summary())\n",
        "        strs = 'Date,Value\\n'\n",
        "        price = float(current_price)\n",
        "        price1 = float(current_price)\n",
        "        for i in range(0,760):\n",
        "            if i < 550:\n",
        "                strs=strs+'1994-10-24,'+str(price)+'\\n'\n",
        "                price = price - 0.005\n",
        "            if i > 550 and i < 760:\n",
        "                strs=strs+'1994-10-24,'+str(price1)+'\\n'\n",
        "                price1 = price1 + 0.023\n",
        "            \n",
        "        file = open('temp1.txt','w')\n",
        "        file.write(strs)\n",
        "        file.close()    \n",
        "        df_data_1 = pd.read_csv('temp1.txt')\n",
        "        df_data_1_test = df_data_1[0:734] \n",
        "        test_set = df_data_1_test.iloc[:,1:2].values\n",
        "        sc = MinMaxScaler(feature_range = (0, 1))\n",
        "        scaled_real_bcg_values_test = sc.fit_transform(np.float64(test_set))\n",
        "        X_test = []\n",
        "        for i in range(timesteps, 734):\n",
        "            X_test.append(scaled_real_bcg_values_test[i-timesteps:i, 0])\n",
        "        X_test = np.array(X_test)\n",
        "        X_test = np.reshape(X_test, (X_test.shape[0], X_test.shape[1], 1))\n",
        "        predicted_bcg_values_test_mae = model.predict(X_test, batch_size=batch_size)\n",
        "        scores = model.evaluate([X_test,X_test], X_test, verbose=2)\n",
        "        lstm_accuracy = 100 - scores\n",
        "        model.reset_states()\n",
        "        predicted_bcg_values_test_mae = np.reshape(predicted_bcg_values_test_mae, (predicted_bcg_values_test_mae.shape[0], predicted_bcg_values_test_mae.shape[1]))\n",
        "        predicted_bcg_values_test_mae = sc.inverse_transform(predicted_bcg_values_test_mae)\n",
        "        y_test = []\n",
        "        for j in range(0, 704 - timesteps):\n",
        "            y_test = np.append(y_test, predicted_bcg_values_test_mae[j, timesteps-1])\n",
        "        y_test = np.reshape(y_test, (y_test.shape[0], 1))\n",
        "        index = 0\n",
        "        cp = float(current_price)\n",
        "        for i in range(0,len(y_test)):\n",
        "            if y_test[i-timesteps] < cp:\n",
        "                index = index + 1\n",
        "                print(str(y_test[i-timesteps]))\n",
        "                if index > 5:\n",
        "                    break;\n",
        "        index = 0        \n",
        "        for i in range(0,len(y_test)):\n",
        "            if y_test[i-timesteps] > cp:\n",
        "                index = index + 1\n",
        "                print(str(y_test[i-timesteps]))\n",
        "                if index > 5:\n",
        "                    break;\n",
        "        print(lstm_accuracy)\n",
        "    else:\n",
        "        df_data_1 = pd.read_csv('FRED-DCOILWTICO.csv')\n",
        "        length = len(df_data_1)\n",
        "        length *= 1 - 0.1\n",
        "        length = get_train_length(df_data_1, batch_size, 0.1)\n",
        "        upper_train = length + timesteps*2\n",
        "        df_data_1_train = df_data_1[0:upper_train]\n",
        "        training_set = df_data_1_train.iloc[:,1:2].values\n",
        "        sc = MinMaxScaler(feature_range = (0, 1))\n",
        "        training_set_scaled = sc.fit_transform(np.float64(training_set))\n",
        "        X_train = []\n",
        "        y_train = []\n",
        "        for i in range(timesteps, length + timesteps): \n",
        "            X_train.append(training_set_scaled[i-timesteps:i,0])\n",
        "            y_train.append(training_set_scaled[i:i+timesteps,0])\n",
        "\n",
        "        X_train, y_train = np.array(X_train), np.array(y_train)\n",
        "        X_train = np.reshape(X_train, (X_train.shape[0], X_train.shape[1], 1))\n",
        "        y_train = np.reshape(y_train, (y_train.shape[0], y_train.shape[1], 1))\n",
        "        inputs_1_mae = Input(batch_shape=(batch_size,timesteps,1))\n",
        "        lstm_1_mae = LSTM(10, stateful=True, return_sequences=True)(inputs_1_mae)\n",
        "        lstm_2_mae = LSTM(10, stateful=True, return_sequences=True)(lstm_1_mae)\n",
        "        output_1_mae = Dense(units = 1)(lstm_2_mae)\n",
        "        regressor_mae = Model(inputs=inputs_1_mae, outputs = output_1_mae)\n",
        "        regressor_mae.compile(optimizer='adam', loss = 'mae')\n",
        "        regressor_mae.summary()\n",
        "        parameters = 4 * 10 * (1 + 10 + 1)\n",
        "        parameters = 4 * 10 * (10 + 10 + 1)\n",
        "        for i in range(epochs):\n",
        "            print(\"Epoch: \" + str(i))\n",
        "            regressor_mae.fit(X_train, y_train, shuffle=False, epochs = 1, batch_size = batch_size)\n",
        "            regressor_mae.reset_states()\n",
        "        regressor_mae.save(filepath=\"models/mymodel.h5\")\n",
        "\n",
        "    print(\" LSTM Accuracyis\\n\")\n",
        "    print(str(lstm_accuracy))\n",
        "    \n"
      ],
      "metadata": {
        "id": "kyYluxKfAJcK"
      },
      "execution_count": 14,
      "outputs": []
    },
    {
      "cell_type": "code",
      "source": [
        "def runARMA():\n",
        "    global arma_accuracy\n",
        "    current_price = 100\n",
        "    #text.delete('1.0', END)\n",
        "    #text.insert(END,\"ARMA Predicted Prices loaded\\n\\n\");\n",
        "    series = pd.read_csv('FRED-DCOILWTICO.csv')\n",
        "    strs = 'Date,Value\\n'\n",
        "    price = float(current_price)\n",
        "    for i in range(0,10):\n",
        "        strs=strs+'1994-10-24,'+str(price)+'\\n'\n",
        "        price = price + 0.005\n",
        "    file = open('temp1.txt','w')\n",
        "    file.write(strs)\n",
        "    file.close()    \n",
        "    series1 = pd.read_csv(\"temp1.txt\")\n",
        "    X = np.array(series[\"Value\"])\n",
        "    X = np.reshape(X,(-1,1))\n",
        "    Y = np.array(series[\"Value\"])\n",
        "    tt = np.array(series1[\"Value\"])\n",
        "    tt = np.reshape(tt,(-1,1))\n",
        "    train, test, Y_train, Y_test = train_test_split(X, Y, test_size=0.2, random_state=0)\n",
        "\n",
        "    predictions = []\n",
        "    history = [x for x in train]\n",
        "    correct = 0;\n",
        "    for i in range(len(tt)):\n",
        "        model = ARIMA(history, order=(5,1,0))\n",
        "        model_fit = model.fit()\n",
        "        output = model_fit.forecast()\n",
        "        yhat = output[0]\n",
        "        predictions.append(yhat)\n",
        "        obs = tt[i]\n",
        "        history.append(obs)\n",
        "        predict = abs(yhat - obs)\n",
        "        print('predicted=%f, expected=%f' % (yhat, float(current_price)))\n",
        "        #text.insert(END,\"Current Price : \"+current_price+\" Predicted Price : \"+str(yhat)+\"\\n\")\n",
        "        if predict < 10:\n",
        "            correct = correct + 1\n",
        "            \n",
        "    arma_accuracy = (correct/len(tt))*100\n",
        "    print(\" ARMA Accuracyis\\n\")\n",
        "    print(str(arma_accuracy))\n"
      ],
      "metadata": {
        "id": "xx6U_2ATATyL"
      },
      "execution_count": 15,
      "outputs": []
    },
    {
      "cell_type": "code",
      "source": [
        "def graph():\n",
        "    global lstm_accuracy\n",
        "    global arma_accuracy\n",
        "    height = [lstm_accuracy,arma_accuracy]\n",
        "    bars = ('LSTM Model Accuracy','ARMA Model Accuracy')\n",
        "    y_pos = np.arange(len(bars))\n",
        "    plt.bar(y_pos, height)\n",
        "    plt.xticks(y_pos, bars)\n",
        "    plt.show()\n"
      ],
      "metadata": {
        "id": "vSCEkVvgA-2T"
      },
      "execution_count": 9,
      "outputs": []
    },
    {
      "cell_type": "code",
      "source": [
        "main = tkinter.Tk()\n",
        "main.title(\"Crude Oil Price Forecasting\") #designing main screen\n",
        "main.geometry(\"1300x1200\")\n",
        "def exit():\n",
        "    global main\n",
        "    main.destroy()\n",
        "    \n",
        "font = ('times', 16, 'bold')\n",
        "title = Label(main, text='Forecasting Crude Oil Prices: a Deep Learning based Model')\n",
        "title.config(bg='greenyellow', fg='dodger blue')  \n",
        "title.config(font=font)           \n",
        "title.config(height=3, width=120)       \n",
        "title.place(x=0,y=5)\n",
        "\n",
        "font1 = ('times', 12, 'bold')\n",
        "text=Text(main,height=20,width=150)\n",
        "scroll=Scrollbar(text)\n",
        "text.configure(yscrollcommand=scroll.set)\n",
        "text.place(x=50,y=120)\n",
        "text.config(font=font1)\n",
        "\n",
        "\n",
        "font1 = ('times', 14, 'bold')\n",
        "uploadButton = Button(main, text=\"Upload Crude Oil Dataset\", command=upload)\n",
        "uploadButton.place(x=50,y=550)\n",
        "uploadButton.config(font=font1)  \n",
        "\n",
        "lstmButton = Button(main, text=\"Run Deep Learning LSTM Model & Forecast Price\", command=runLSTM)\n",
        "lstmButton.place(x=330,y=550)\n",
        "lstmButton.config(font=font1) \n",
        "\n",
        "armaButton = Button(main, text=\"Run Deep Learning ARMA Model & Forecast Price\", command=runARMA)\n",
        "armaButton.place(x=800,y=550)\n",
        "armaButton.config(font=font1) \n",
        "\n",
        "graphButton = Button(main, text=\"Accuracy Graph\", command=graph)\n",
        "graphButton.place(x=50,y=600)\n",
        "graphButton.config(font=font1) \n",
        "\n",
        "exitButton = Button(main, text=\"Exit\", command=exit)\n",
        "exitButton.place(x=330,y=600)\n",
        "exitButton.config(font=font1) \n",
        "\n",
        "main.config(bg='LightSkyBlue')\n",
        "main.mainloop()"
      ],
      "metadata": {
        "id": "xWmh0UP7BQS-",
        "colab": {
          "base_uri": "https://localhost:8080/",
          "height": 374
        },
        "outputId": "557e0a73-ebdb-43c8-b78d-3657a01ea255"
      },
      "execution_count": 7,
      "outputs": [
        {
          "output_type": "error",
          "ename": "TclError",
          "evalue": "ignored",
          "traceback": [
            "\u001b[0;31m---------------------------------------------------------------------------\u001b[0m",
            "\u001b[0;31mTclError\u001b[0m                                  Traceback (most recent call last)",
            "\u001b[0;32m<ipython-input-7-e75ddde9aafd>\u001b[0m in \u001b[0;36m<cell line: 1>\u001b[0;34m()\u001b[0m\n\u001b[0;32m----> 1\u001b[0;31m \u001b[0mmain\u001b[0m \u001b[0;34m=\u001b[0m \u001b[0mtkinter\u001b[0m\u001b[0;34m.\u001b[0m\u001b[0mTk\u001b[0m\u001b[0;34m(\u001b[0m\u001b[0;34m)\u001b[0m\u001b[0;34m\u001b[0m\u001b[0;34m\u001b[0m\u001b[0m\n\u001b[0m\u001b[1;32m      2\u001b[0m \u001b[0mmain\u001b[0m\u001b[0;34m.\u001b[0m\u001b[0mtitle\u001b[0m\u001b[0;34m(\u001b[0m\u001b[0;34m\"Crude Oil Price Forecasting\"\u001b[0m\u001b[0;34m)\u001b[0m \u001b[0;31m#designing main screen\u001b[0m\u001b[0;34m\u001b[0m\u001b[0;34m\u001b[0m\u001b[0m\n\u001b[1;32m      3\u001b[0m \u001b[0mmain\u001b[0m\u001b[0;34m.\u001b[0m\u001b[0mgeometry\u001b[0m\u001b[0;34m(\u001b[0m\u001b[0;34m\"1300x1200\"\u001b[0m\u001b[0;34m)\u001b[0m\u001b[0;34m\u001b[0m\u001b[0;34m\u001b[0m\u001b[0m\n\u001b[1;32m      4\u001b[0m \u001b[0;32mdef\u001b[0m \u001b[0mexit\u001b[0m\u001b[0;34m(\u001b[0m\u001b[0;34m)\u001b[0m\u001b[0;34m:\u001b[0m\u001b[0;34m\u001b[0m\u001b[0;34m\u001b[0m\u001b[0m\n\u001b[1;32m      5\u001b[0m     \u001b[0;32mglobal\u001b[0m \u001b[0mmain\u001b[0m\u001b[0;34m\u001b[0m\u001b[0;34m\u001b[0m\u001b[0m\n",
            "\u001b[0;32m/usr/lib/python3.10/tkinter/__init__.py\u001b[0m in \u001b[0;36m__init__\u001b[0;34m(self, screenName, baseName, className, useTk, sync, use)\u001b[0m\n\u001b[1;32m   2300\u001b[0m                 \u001b[0mbaseName\u001b[0m \u001b[0;34m=\u001b[0m \u001b[0mbaseName\u001b[0m \u001b[0;34m+\u001b[0m \u001b[0mext\u001b[0m\u001b[0;34m\u001b[0m\u001b[0;34m\u001b[0m\u001b[0m\n\u001b[1;32m   2301\u001b[0m         \u001b[0minteractive\u001b[0m \u001b[0;34m=\u001b[0m \u001b[0;32mFalse\u001b[0m\u001b[0;34m\u001b[0m\u001b[0;34m\u001b[0m\u001b[0m\n\u001b[0;32m-> 2302\u001b[0;31m         \u001b[0mself\u001b[0m\u001b[0;34m.\u001b[0m\u001b[0mtk\u001b[0m \u001b[0;34m=\u001b[0m \u001b[0m_tkinter\u001b[0m\u001b[0;34m.\u001b[0m\u001b[0mcreate\u001b[0m\u001b[0;34m(\u001b[0m\u001b[0mscreenName\u001b[0m\u001b[0;34m,\u001b[0m \u001b[0mbaseName\u001b[0m\u001b[0;34m,\u001b[0m \u001b[0mclassName\u001b[0m\u001b[0;34m,\u001b[0m \u001b[0minteractive\u001b[0m\u001b[0;34m,\u001b[0m \u001b[0mwantobjects\u001b[0m\u001b[0;34m,\u001b[0m \u001b[0museTk\u001b[0m\u001b[0;34m,\u001b[0m \u001b[0msync\u001b[0m\u001b[0;34m,\u001b[0m \u001b[0muse\u001b[0m\u001b[0;34m)\u001b[0m\u001b[0;34m\u001b[0m\u001b[0;34m\u001b[0m\u001b[0m\n\u001b[0m\u001b[1;32m   2303\u001b[0m         \u001b[0;32mif\u001b[0m \u001b[0museTk\u001b[0m\u001b[0;34m:\u001b[0m\u001b[0;34m\u001b[0m\u001b[0;34m\u001b[0m\u001b[0m\n\u001b[1;32m   2304\u001b[0m             \u001b[0mself\u001b[0m\u001b[0;34m.\u001b[0m\u001b[0m_loadtk\u001b[0m\u001b[0;34m(\u001b[0m\u001b[0;34m)\u001b[0m\u001b[0;34m\u001b[0m\u001b[0;34m\u001b[0m\u001b[0m\n",
            "\u001b[0;31mTclError\u001b[0m: no display name and no $DISPLAY environment variable"
          ]
        }
      ]
    },
    {
      "cell_type": "code",
      "source": [
        "runLSTM()\n"
      ],
      "metadata": {
        "id": "0HmUuoWPBBPs",
        "colab": {
          "base_uri": "https://localhost:8080/"
        },
        "outputId": "6f1383e8-e42c-46bf-f38a-eb1fe2e9d613"
      },
      "execution_count": 16,
      "outputs": [
        {
          "output_type": "stream",
          "name": "stdout",
          "text": [
            "x 7616\n",
            "x 7680\n",
            "Model: \"model_1\"\n",
            "_________________________________________________________________\n",
            " Layer (type)                Output Shape              Param #   \n",
            "=================================================================\n",
            " input_2 (InputLayer)        [(64, 30, 1)]             0         \n",
            "                                                                 \n",
            " lstm_2 (LSTM)               (64, 30, 10)              480       \n",
            "                                                                 \n",
            " lstm_3 (LSTM)               (64, 30, 10)              840       \n",
            "                                                                 \n",
            " dense_1 (Dense)             (64, 30, 1)               11        \n",
            "                                                                 \n",
            "=================================================================\n",
            "Total params: 1,331\n",
            "Trainable params: 1,331\n",
            "Non-trainable params: 0\n",
            "_________________________________________________________________\n",
            "Epoch: 0\n",
            "120/120 [==============================] - 5s 18ms/step - loss: 0.0962\n",
            "Epoch: 1\n",
            "120/120 [==============================] - 3s 24ms/step - loss: 0.0683\n",
            "Epoch: 2\n",
            "120/120 [==============================] - 2s 19ms/step - loss: 0.0652\n",
            "Epoch: 3\n",
            "120/120 [==============================] - 2s 18ms/step - loss: 0.0640\n",
            "Epoch: 4\n",
            "120/120 [==============================] - 2s 18ms/step - loss: 0.0640\n",
            "Epoch: 5\n",
            "120/120 [==============================] - 3s 26ms/step - loss: 0.0634\n",
            "Epoch: 6\n",
            "120/120 [==============================] - 2s 17ms/step - loss: 0.0622\n",
            "Epoch: 7\n",
            "120/120 [==============================] - 2s 18ms/step - loss: 0.0608\n",
            "Epoch: 8\n",
            "120/120 [==============================] - 2s 18ms/step - loss: 0.0593\n",
            "Epoch: 9\n",
            "120/120 [==============================] - 3s 23ms/step - loss: 0.0576\n",
            " LSTM Accuracyis\n",
            "\n",
            "0\n"
          ]
        }
      ]
    },
    {
      "cell_type": "code",
      "source": [
        "graph()"
      ],
      "metadata": {
        "colab": {
          "base_uri": "https://localhost:8080/",
          "height": 430
        },
        "id": "Yjpsfax_haVw",
        "outputId": "1776a025-9d60-452c-e9f9-0617386a2f52"
      },
      "execution_count": 11,
      "outputs": [
        {
          "output_type": "display_data",
          "data": {
            "text/plain": [
              "<Figure size 640x480 with 1 Axes>"
            ],
            "image/png": "[encoded data removed]"
          },
          "metadata": {}
        }
      ]
    }
  ]
}